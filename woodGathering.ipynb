{
 "cells": [
  {
   "cell_type": "code",
   "outputs": [],
   "source": [
    "import tensorflow as tf\n",
    "from tensorflow import keras\n",
    "from tensorflow.keras import layers\n",
    "import numpy as np\n",
    "import gymnasium as gym\n",
    "from gymnasium import Env\n",
    "from gymnasium.spaces import Discrete, Box\n",
    "import cv2\n",
    "from PIL import Image\n",
    "from PIL import ImageGrab\n",
    "import os\n",
    "from PIL import Image\n",
    "import pyautogui\n",
    "import time"
   ],
   "metadata": {
    "collapsed": false,
    "ExecuteTime": {
     "end_time": "2024-03-23T18:03:55.751425Z",
     "start_time": "2024-03-23T18:03:54.193588Z"
    }
   },
   "id": "initial_id",
   "execution_count": 1
  },
  {
   "cell_type": "markdown",
   "source": [
    "# env"
   ],
   "metadata": {
    "collapsed": false
   },
   "id": "962ab93539a4978a"
  },
  {
   "cell_type": "code",
   "outputs": [],
   "source": [
    "keys = [\"z\", \"s\", \"q\", \"d\", \"e\"]"
   ],
   "metadata": {
    "collapsed": false,
    "ExecuteTime": {
     "end_time": "2024-03-23T16:48:12.816609Z",
     "start_time": "2024-03-23T16:48:12.814297Z"
    }
   },
   "id": "b330cadde711dee5",
   "execution_count": 10
  },
  {
   "cell_type": "code",
   "outputs": [],
   "source": [
    "import gym\n",
    "from gym import spaces\n",
    "\n",
    "\n",
    "class CustomEnv(Env):\n",
    "    def __init__(self):\n",
    "        super(CustomEnv, self).__init__()\n",
    "\n",
    "        # Define action and observation space\n",
    "        # They must be gym.spaces objects\n",
    "        self.total_picked_up = 0\n",
    "        self.action_space = Discrete(5)\n",
    "        self.observation_space = Box(low=0, high=255, shape=(1080, 1920, 3), dtype=np.uint8)\n",
    "\n",
    "    def step(self, action):\n",
    "        observation = self.get_screen()\n",
    "        \n",
    "        pyautogui.press(keys[action])\n",
    "  \n",
    "        reward = 0\n",
    "        if self.item_found(observation):\n",
    "            reward = 1\n",
    "            self.total_picked_up += 1\n",
    "            \n",
    "        info = {}\n",
    "        \n",
    "        done = self.total_picked_up >= 5\n",
    "\n",
    "        return observation, reward, done, info\n",
    "\n",
    "    def reset(self):\n",
    "        self.total_picked_up = 0\n",
    "        return self.total_picked_up\n",
    "\n",
    "    def render(self, mode='human'):\n",
    "        pass\n",
    "    \n",
    "    def get_screen(self):\n",
    "        screen = pyautogui.screenshot()\n",
    "        return np.array(screen)\n",
    "    \n",
    "    def item_found(self, observation):\n",
    "        \n",
    "        if len(observation.shape) == 3:\n",
    "            observation = cv2.cvtColor(observation, cv2.COLOR_BGR2GRAY)\n",
    "        # Read the template\n",
    "        template = cv2.imread(\"resources/template_matching/leafs.png\", 0)\n",
    "\n",
    "        # Perform template matching\n",
    "        if observation.dtype != np.uint8:\n",
    "            observation = observation.astype(np.uint8)\n",
    "        if template.dtype != np.uint8:\n",
    "            template = template.astype(np.uint8)\n",
    "\n",
    "        res = cv2.matchTemplate(observation, template, cv2.TM_CCOEFF_NORMED)\n",
    "        return np.where(res >= .8)"
   ],
   "metadata": {
    "collapsed": false,
    "ExecuteTime": {
     "end_time": "2024-03-23T16:48:14.175262Z",
     "start_time": "2024-03-23T16:48:14.170262Z"
    }
   },
   "id": "d6beade834106d04",
   "execution_count": 11
  },
  {
   "cell_type": "code",
   "outputs": [],
   "source": [
    "env = CustomEnv()"
   ],
   "metadata": {
    "collapsed": false,
    "ExecuteTime": {
     "end_time": "2024-03-23T16:48:18.988775Z",
     "start_time": "2024-03-23T16:48:18.946619Z"
    }
   },
   "id": "95961afd28cec8d2",
   "execution_count": 12
  },
  {
   "cell_type": "markdown",
   "source": [
    "# model"
   ],
   "metadata": {
    "collapsed": false
   },
   "id": "2b0b27508b8be172"
  },
  {
   "cell_type": "code",
   "outputs": [],
   "source": [
    "# # Define loss and optimizer\n",
    "# optimizer = tf.keras.optimizers.Adam()\n",
    "# loss_fn = tf.keras.losses.MeanSquaredError()\n",
    "# \n",
    "# # Number of episodes to play\n",
    "# num_episodes = 500\n",
    "# \n",
    "# \n",
    "# # Function to preprocess images\n",
    "# def preprocess_image(image):\n",
    "#     return tf.image.rgb_to_grayscale(image)\n",
    "# \n",
    "# \n",
    "# for episode in range(num_episodes):\n",
    "#     initial_state = env.reset()\n",
    "# \n",
    "#     done = False\n",
    "#     while not done:\n",
    "#         action = env.action_space.sample()\n",
    "#         next_state, reward, done, info = env.step(action)\n",
    "# \n",
    "#         # next_state = preprocess_image(next_state)\n",
    "# \n",
    "#         # training here\n"
   ],
   "metadata": {
    "collapsed": false,
    "ExecuteTime": {
     "end_time": "2024-03-16T11:34:38.344085Z",
     "start_time": "2024-03-16T11:34:38.341710Z"
    }
   },
   "id": "ddacd382ee6712b9",
   "execution_count": 9
  },
  {
   "cell_type": "code",
   "outputs": [
    {
     "name": "stdout",
     "output_type": "stream",
     "text": [
      "Episode:0 Score:1\n",
      "Episode:0 Score:2\n",
      "Episode:0 Score:3\n",
      "Episode:0 Score:4\n",
      "Episode:0 Score:5\n",
      "Episode:1 Score:1\n",
      "Episode:1 Score:2\n",
      "Episode:1 Score:3\n",
      "Episode:1 Score:4\n",
      "Episode:1 Score:5\n",
      "Episode:2 Score:1\n",
      "Episode:2 Score:2\n",
      "Episode:2 Score:3\n",
      "Episode:2 Score:4\n",
      "Episode:2 Score:5\n",
      "Episode:3 Score:1\n",
      "Episode:3 Score:2\n",
      "Episode:3 Score:3\n",
      "Episode:3 Score:4\n",
      "Episode:3 Score:5\n",
      "Episode:4 Score:1\n",
      "Episode:4 Score:2\n",
      "Episode:4 Score:3\n",
      "Episode:4 Score:4\n",
      "Episode:4 Score:5\n",
      "Episode:5 Score:1\n",
      "Episode:5 Score:2\n",
      "Episode:5 Score:3\n",
      "Episode:5 Score:4\n",
      "Episode:5 Score:5\n",
      "Episode:6 Score:1\n",
      "Episode:6 Score:2\n",
      "Episode:6 Score:3\n",
      "Episode:6 Score:4\n",
      "Episode:6 Score:5\n",
      "Episode:7 Score:1\n",
      "Episode:7 Score:2\n",
      "Episode:7 Score:3\n",
      "Episode:7 Score:4\n",
      "Episode:7 Score:5\n",
      "Episode:8 Score:1\n",
      "Episode:8 Score:2\n",
      "Episode:8 Score:3\n",
      "Episode:8 Score:4\n",
      "Episode:8 Score:5\n",
      "Episode:9 Score:1\n",
      "Episode:9 Score:2\n",
      "Episode:9 Score:3\n",
      "Episode:9 Score:4\n",
      "Episode:9 Score:5\n",
      "Episode:10 Score:1\n",
      "Episode:10 Score:2\n",
      "Episode:10 Score:3\n",
      "Episode:10 Score:4\n",
      "Episode:10 Score:5\n",
      "Episode:11 Score:1\n",
      "Episode:11 Score:2\n",
      "Episode:11 Score:3\n",
      "Episode:11 Score:4\n",
      "Episode:11 Score:5\n",
      "Episode:12 Score:1\n",
      "Episode:12 Score:2\n",
      "Episode:12 Score:3\n",
      "Episode:12 Score:4\n",
      "Episode:12 Score:5\n",
      "Episode:13 Score:1\n",
      "Episode:13 Score:2\n",
      "Episode:13 Score:3\n",
      "Episode:13 Score:4\n",
      "Episode:13 Score:5\n",
      "Episode:14 Score:1\n",
      "Episode:14 Score:2\n",
      "Episode:14 Score:3\n",
      "Episode:14 Score:4\n",
      "Episode:14 Score:5\n",
      "Episode:15 Score:1\n",
      "Episode:15 Score:2\n",
      "Episode:15 Score:3\n",
      "Episode:15 Score:4\n",
      "Episode:15 Score:5\n",
      "Episode:16 Score:1\n",
      "Episode:16 Score:2\n",
      "Episode:16 Score:3\n",
      "Episode:16 Score:4\n",
      "Episode:16 Score:5\n",
      "Episode:17 Score:1\n",
      "Episode:17 Score:2\n",
      "Episode:17 Score:3\n",
      "Episode:17 Score:4\n",
      "Episode:17 Score:5\n",
      "Episode:18 Score:1\n",
      "Episode:18 Score:2\n",
      "Episode:18 Score:3\n",
      "Episode:18 Score:4\n",
      "Episode:18 Score:5\n",
      "Episode:19 Score:1\n",
      "Episode:19 Score:2\n",
      "Episode:19 Score:3\n",
      "Episode:19 Score:4\n",
      "Episode:19 Score:5\n"
     ]
    }
   ],
   "source": [
    "time.sleep(10)\n",
    "for episode in range(20):\n",
    "    state = env.reset()\n",
    "    done = False\n",
    "    score = 0\n",
    "    \n",
    "    while not done:\n",
    "        # env.render()\n",
    "        action = env.action_space.sample()  # You can replace with your agent logic\n",
    "        observation, reward, done, info = env.step(action)\n",
    "        score += reward\n",
    "        if score == 5:\n",
    "            done = True\n",
    "        print('Episode:{} Score:{}'.format(episode, score))\n",
    "env.close()"
   ],
   "metadata": {
    "collapsed": false,
    "ExecuteTime": {
     "end_time": "2024-03-16T11:35:11.280777Z",
     "start_time": "2024-03-16T11:34:38.344085Z"
    }
   },
   "id": "d4a60151bccaf00",
   "execution_count": 10
  },
  {
   "cell_type": "code",
   "outputs": [],
   "source": [
    "# while True:\n",
    "#     # Capture screen\n",
    "#     screen = pyautogui.screenshot()\n",
    "#     # Convert the image into numpy array representation\n",
    "#     frame = np.array(screen)\n",
    "#     # Convert the BGR image into RGB image\n",
    "#     frame = cv2.cvtColor(frame, cv2.COLOR_BGR2RGB)\n",
    "#     # Resize the capturing screen to 1080p\n",
    "#     frame = cv2.resize(frame, (1920, 1080))\n",
    "#     # Display screen in 1080p\n",
    "#     cv2.imshow('Screen Capture in 1080p', frame)\n",
    "# \n",
    "#     # Wait for the user to press the ESC key (ASCII 27) to quit capturing the screen\n",
    "#     if cv2.waitKey(1) == 27:\n",
    "#         break\n",
    "# \n",
    "# cv2.destroyAllWindows()"
   ],
   "metadata": {
    "collapsed": false,
    "ExecuteTime": {
     "end_time": "2024-03-16T11:35:11.283163Z",
     "start_time": "2024-03-16T11:35:11.280777Z"
    }
   },
   "id": "3fccfe8ced41e9ef",
   "execution_count": 11
  },
  {
   "cell_type": "markdown",
   "source": [
    "# NN"
   ],
   "metadata": {
    "collapsed": false
   },
   "id": "1334442006ded5a"
  },
  {
   "cell_type": "code",
   "outputs": [],
   "source": [
    "states = env.observation_space.shape\n",
    "actions = env.action_space.n"
   ],
   "metadata": {
    "collapsed": false,
    "ExecuteTime": {
     "end_time": "2024-03-23T16:48:23.766614Z",
     "start_time": "2024-03-23T16:48:23.764860Z"
    }
   },
   "id": "a4f313b8f4cd02c5",
   "execution_count": 13
  },
  {
   "cell_type": "code",
   "outputs": [],
   "source": [
    "# Define the Convolutional Neural Network\n",
    "inputs = layers.Input(shape=states)\n",
    "x = layers.Conv2D(32, (8, 8), strides=4, activation='relu')(inputs)\n",
    "x = layers.Conv2D(64, (4, 4), strides=2, activation='relu')(x)\n",
    "x = layers.Conv2D(64, (3, 3), strides=1, activation='relu')(x)\n",
    "x = layers.Flatten()(x)\n",
    "x = layers.Dense(512, activation='relu')(x)\n",
    "outputs = layers.Dense(env.action_space.n, activation='linear')(x)\n",
    "\n",
    "model = keras.Model(inputs=inputs, outputs=outputs)"
   ],
   "metadata": {
    "collapsed": false,
    "ExecuteTime": {
     "end_time": "2024-03-23T16:48:26.268170Z",
     "start_time": "2024-03-23T16:48:25.389044Z"
    }
   },
   "id": "fd7ed4711d3123c0",
   "execution_count": 14
  },
  {
   "cell_type": "code",
   "outputs": [
    {
     "data": {
      "text/plain": "\u001B[1mModel: \"functional_3\"\u001B[0m\n",
      "text/html": "<pre style=\"white-space:pre;overflow-x:auto;line-height:normal;font-family:Menlo,'DejaVu Sans Mono',consolas,'Courier New',monospace\"><span style=\"font-weight: bold\">Model: \"functional_3\"</span>\n</pre>\n"
     },
     "metadata": {},
     "output_type": "display_data"
    },
    {
     "data": {
      "text/plain": "┏━━━━━━━━━━━━━━━━━━━━━━━━━━━━━━━━━┳━━━━━━━━━━━━━━━━━━━━━━━━┳━━━━━━━━━━━━━━━┓\n┃\u001B[1m \u001B[0m\u001B[1mLayer (type)                   \u001B[0m\u001B[1m \u001B[0m┃\u001B[1m \u001B[0m\u001B[1mOutput Shape          \u001B[0m\u001B[1m \u001B[0m┃\u001B[1m \u001B[0m\u001B[1m      Param #\u001B[0m\u001B[1m \u001B[0m┃\n┡━━━━━━━━━━━━━━━━━━━━━━━━━━━━━━━━━╇━━━━━━━━━━━━━━━━━━━━━━━━╇━━━━━━━━━━━━━━━┩\n│ input_layer_1 (\u001B[38;5;33mInputLayer\u001B[0m)      │ (\u001B[38;5;45mNone\u001B[0m, \u001B[38;5;34m1080\u001B[0m, \u001B[38;5;34m1920\u001B[0m, \u001B[38;5;34m3\u001B[0m)  │             \u001B[38;5;34m0\u001B[0m │\n├─────────────────────────────────┼────────────────────────┼───────────────┤\n│ conv2d_3 (\u001B[38;5;33mConv2D\u001B[0m)               │ (\u001B[38;5;45mNone\u001B[0m, \u001B[38;5;34m269\u001B[0m, \u001B[38;5;34m479\u001B[0m, \u001B[38;5;34m32\u001B[0m)   │         \u001B[38;5;34m6,176\u001B[0m │\n├─────────────────────────────────┼────────────────────────┼───────────────┤\n│ conv2d_4 (\u001B[38;5;33mConv2D\u001B[0m)               │ (\u001B[38;5;45mNone\u001B[0m, \u001B[38;5;34m133\u001B[0m, \u001B[38;5;34m238\u001B[0m, \u001B[38;5;34m64\u001B[0m)   │        \u001B[38;5;34m32,832\u001B[0m │\n├─────────────────────────────────┼────────────────────────┼───────────────┤\n│ conv2d_5 (\u001B[38;5;33mConv2D\u001B[0m)               │ (\u001B[38;5;45mNone\u001B[0m, \u001B[38;5;34m131\u001B[0m, \u001B[38;5;34m236\u001B[0m, \u001B[38;5;34m64\u001B[0m)   │        \u001B[38;5;34m36,928\u001B[0m │\n├─────────────────────────────────┼────────────────────────┼───────────────┤\n│ flatten_1 (\u001B[38;5;33mFlatten\u001B[0m)             │ (\u001B[38;5;45mNone\u001B[0m, \u001B[38;5;34m1978624\u001B[0m)        │             \u001B[38;5;34m0\u001B[0m │\n├─────────────────────────────────┼────────────────────────┼───────────────┤\n│ dense_2 (\u001B[38;5;33mDense\u001B[0m)                 │ (\u001B[38;5;45mNone\u001B[0m, \u001B[38;5;34m512\u001B[0m)            │ \u001B[38;5;34m1,013,056,000\u001B[0m │\n├─────────────────────────────────┼────────────────────────┼───────────────┤\n│ dense_3 (\u001B[38;5;33mDense\u001B[0m)                 │ (\u001B[38;5;45mNone\u001B[0m, \u001B[38;5;34m5\u001B[0m)              │         \u001B[38;5;34m2,565\u001B[0m │\n└─────────────────────────────────┴────────────────────────┴───────────────┘\n",
      "text/html": "<pre style=\"white-space:pre;overflow-x:auto;line-height:normal;font-family:Menlo,'DejaVu Sans Mono',consolas,'Courier New',monospace\">┏━━━━━━━━━━━━━━━━━━━━━━━━━━━━━━━━━┳━━━━━━━━━━━━━━━━━━━━━━━━┳━━━━━━━━━━━━━━━┓\n┃<span style=\"font-weight: bold\"> Layer (type)                    </span>┃<span style=\"font-weight: bold\"> Output Shape           </span>┃<span style=\"font-weight: bold\">       Param # </span>┃\n┡━━━━━━━━━━━━━━━━━━━━━━━━━━━━━━━━━╇━━━━━━━━━━━━━━━━━━━━━━━━╇━━━━━━━━━━━━━━━┩\n│ input_layer_1 (<span style=\"color: #0087ff; text-decoration-color: #0087ff\">InputLayer</span>)      │ (<span style=\"color: #00d7ff; text-decoration-color: #00d7ff\">None</span>, <span style=\"color: #00af00; text-decoration-color: #00af00\">1080</span>, <span style=\"color: #00af00; text-decoration-color: #00af00\">1920</span>, <span style=\"color: #00af00; text-decoration-color: #00af00\">3</span>)  │             <span style=\"color: #00af00; text-decoration-color: #00af00\">0</span> │\n├─────────────────────────────────┼────────────────────────┼───────────────┤\n│ conv2d_3 (<span style=\"color: #0087ff; text-decoration-color: #0087ff\">Conv2D</span>)               │ (<span style=\"color: #00d7ff; text-decoration-color: #00d7ff\">None</span>, <span style=\"color: #00af00; text-decoration-color: #00af00\">269</span>, <span style=\"color: #00af00; text-decoration-color: #00af00\">479</span>, <span style=\"color: #00af00; text-decoration-color: #00af00\">32</span>)   │         <span style=\"color: #00af00; text-decoration-color: #00af00\">6,176</span> │\n├─────────────────────────────────┼────────────────────────┼───────────────┤\n│ conv2d_4 (<span style=\"color: #0087ff; text-decoration-color: #0087ff\">Conv2D</span>)               │ (<span style=\"color: #00d7ff; text-decoration-color: #00d7ff\">None</span>, <span style=\"color: #00af00; text-decoration-color: #00af00\">133</span>, <span style=\"color: #00af00; text-decoration-color: #00af00\">238</span>, <span style=\"color: #00af00; text-decoration-color: #00af00\">64</span>)   │        <span style=\"color: #00af00; text-decoration-color: #00af00\">32,832</span> │\n├─────────────────────────────────┼────────────────────────┼───────────────┤\n│ conv2d_5 (<span style=\"color: #0087ff; text-decoration-color: #0087ff\">Conv2D</span>)               │ (<span style=\"color: #00d7ff; text-decoration-color: #00d7ff\">None</span>, <span style=\"color: #00af00; text-decoration-color: #00af00\">131</span>, <span style=\"color: #00af00; text-decoration-color: #00af00\">236</span>, <span style=\"color: #00af00; text-decoration-color: #00af00\">64</span>)   │        <span style=\"color: #00af00; text-decoration-color: #00af00\">36,928</span> │\n├─────────────────────────────────┼────────────────────────┼───────────────┤\n│ flatten_1 (<span style=\"color: #0087ff; text-decoration-color: #0087ff\">Flatten</span>)             │ (<span style=\"color: #00d7ff; text-decoration-color: #00d7ff\">None</span>, <span style=\"color: #00af00; text-decoration-color: #00af00\">1978624</span>)        │             <span style=\"color: #00af00; text-decoration-color: #00af00\">0</span> │\n├─────────────────────────────────┼────────────────────────┼───────────────┤\n│ dense_2 (<span style=\"color: #0087ff; text-decoration-color: #0087ff\">Dense</span>)                 │ (<span style=\"color: #00d7ff; text-decoration-color: #00d7ff\">None</span>, <span style=\"color: #00af00; text-decoration-color: #00af00\">512</span>)            │ <span style=\"color: #00af00; text-decoration-color: #00af00\">1,013,056,000</span> │\n├─────────────────────────────────┼────────────────────────┼───────────────┤\n│ dense_3 (<span style=\"color: #0087ff; text-decoration-color: #0087ff\">Dense</span>)                 │ (<span style=\"color: #00d7ff; text-decoration-color: #00d7ff\">None</span>, <span style=\"color: #00af00; text-decoration-color: #00af00\">5</span>)              │         <span style=\"color: #00af00; text-decoration-color: #00af00\">2,565</span> │\n└─────────────────────────────────┴────────────────────────┴───────────────┘\n</pre>\n"
     },
     "metadata": {},
     "output_type": "display_data"
    },
    {
     "data": {
      "text/plain": "\u001B[1m Total params: \u001B[0m\u001B[38;5;34m1,013,134,501\u001B[0m (3.77 GB)\n",
      "text/html": "<pre style=\"white-space:pre;overflow-x:auto;line-height:normal;font-family:Menlo,'DejaVu Sans Mono',consolas,'Courier New',monospace\"><span style=\"font-weight: bold\"> Total params: </span><span style=\"color: #00af00; text-decoration-color: #00af00\">1,013,134,501</span> (3.77 GB)\n</pre>\n"
     },
     "metadata": {},
     "output_type": "display_data"
    },
    {
     "data": {
      "text/plain": "\u001B[1m Trainable params: \u001B[0m\u001B[38;5;34m1,013,134,501\u001B[0m (3.77 GB)\n",
      "text/html": "<pre style=\"white-space:pre;overflow-x:auto;line-height:normal;font-family:Menlo,'DejaVu Sans Mono',consolas,'Courier New',monospace\"><span style=\"font-weight: bold\"> Trainable params: </span><span style=\"color: #00af00; text-decoration-color: #00af00\">1,013,134,501</span> (3.77 GB)\n</pre>\n"
     },
     "metadata": {},
     "output_type": "display_data"
    },
    {
     "data": {
      "text/plain": "\u001B[1m Non-trainable params: \u001B[0m\u001B[38;5;34m0\u001B[0m (0.00 B)\n",
      "text/html": "<pre style=\"white-space:pre;overflow-x:auto;line-height:normal;font-family:Menlo,'DejaVu Sans Mono',consolas,'Courier New',monospace\"><span style=\"font-weight: bold\"> Non-trainable params: </span><span style=\"color: #00af00; text-decoration-color: #00af00\">0</span> (0.00 B)\n</pre>\n"
     },
     "metadata": {},
     "output_type": "display_data"
    }
   ],
   "source": [
    "model.build(states)\n",
    "model.summary()"
   ],
   "metadata": {
    "collapsed": false,
    "ExecuteTime": {
     "end_time": "2024-03-23T16:48:29.419741Z",
     "start_time": "2024-03-23T16:48:29.411352Z"
    }
   },
   "id": "4eb19cb016680727",
   "execution_count": 15
  },
  {
   "cell_type": "markdown",
   "source": [
    "# Agent"
   ],
   "metadata": {
    "collapsed": false
   },
   "id": "17b241300fd3864e"
  },
  {
   "cell_type": "code",
   "outputs": [
    {
     "ename": "ImportError",
     "evalue": "cannot import name '__version__' from 'tensorflow.keras' (C:\\Users\\Jordy\\AppData\\Local\\Programs\\Python\\Python311\\Lib\\site-packages\\keras\\_tf_keras\\keras\\__init__.py)",
     "output_type": "error",
     "traceback": [
      "\u001B[1;31m---------------------------------------------------------------------------\u001B[0m",
      "\u001B[1;31mImportError\u001B[0m                               Traceback (most recent call last)",
      "Cell \u001B[1;32mIn[2], line 5\u001B[0m\n\u001B[0;32m      2\u001B[0m \u001B[38;5;28;01mimport\u001B[39;00m \u001B[38;5;21;01mtensorflow\u001B[39;00m \u001B[38;5;28;01mas\u001B[39;00m \u001B[38;5;21;01mtf\u001B[39;00m\n\u001B[0;32m      3\u001B[0m \u001B[38;5;28;01mimport\u001B[39;00m \u001B[38;5;21;01mnumpy\u001B[39;00m \u001B[38;5;28;01mas\u001B[39;00m \u001B[38;5;21;01mnp\u001B[39;00m\n\u001B[1;32m----> 5\u001B[0m \u001B[38;5;28;01mfrom\u001B[39;00m \u001B[38;5;21;01mrl\u001B[39;00m\u001B[38;5;21;01m.\u001B[39;00m\u001B[38;5;21;01magents\u001B[39;00m \u001B[38;5;28;01mimport\u001B[39;00m DQNAgent\n\u001B[0;32m      6\u001B[0m \u001B[38;5;28;01mfrom\u001B[39;00m \u001B[38;5;21;01mrl\u001B[39;00m\u001B[38;5;21;01m.\u001B[39;00m\u001B[38;5;21;01mpolicy\u001B[39;00m \u001B[38;5;28;01mimport\u001B[39;00m BoltzmannQPolicy\n\u001B[0;32m      7\u001B[0m \u001B[38;5;28;01mfrom\u001B[39;00m \u001B[38;5;21;01mrl\u001B[39;00m\u001B[38;5;21;01m.\u001B[39;00m\u001B[38;5;21;01mmemory\u001B[39;00m \u001B[38;5;28;01mimport\u001B[39;00m SequentialMemory\n",
      "File \u001B[1;32m~\\AppData\\Local\\Programs\\Python\\Python311\\Lib\\site-packages\\rl\\agents\\__init__.py:1\u001B[0m\n\u001B[1;32m----> 1\u001B[0m \u001B[38;5;28;01mfrom\u001B[39;00m \u001B[38;5;21;01m.\u001B[39;00m\u001B[38;5;21;01mdqn\u001B[39;00m \u001B[38;5;28;01mimport\u001B[39;00m DQNAgent, NAFAgent, ContinuousDQNAgent\n\u001B[0;32m      2\u001B[0m \u001B[38;5;28;01mfrom\u001B[39;00m \u001B[38;5;21;01m.\u001B[39;00m\u001B[38;5;21;01mddpg\u001B[39;00m \u001B[38;5;28;01mimport\u001B[39;00m DDPGAgent\n\u001B[0;32m      3\u001B[0m \u001B[38;5;28;01mfrom\u001B[39;00m \u001B[38;5;21;01m.\u001B[39;00m\u001B[38;5;21;01mcem\u001B[39;00m \u001B[38;5;28;01mimport\u001B[39;00m CEMAgent\n",
      "File \u001B[1;32m~\\AppData\\Local\\Programs\\Python\\Python311\\Lib\\site-packages\\rl\\agents\\dqn.py:7\u001B[0m\n\u001B[0;32m      4\u001B[0m \u001B[38;5;28;01mfrom\u001B[39;00m \u001B[38;5;21;01mtensorflow\u001B[39;00m\u001B[38;5;21;01m.\u001B[39;00m\u001B[38;5;21;01mkeras\u001B[39;00m\u001B[38;5;21;01m.\u001B[39;00m\u001B[38;5;21;01mmodels\u001B[39;00m \u001B[38;5;28;01mimport\u001B[39;00m Model\n\u001B[0;32m      5\u001B[0m \u001B[38;5;28;01mfrom\u001B[39;00m \u001B[38;5;21;01mtensorflow\u001B[39;00m\u001B[38;5;21;01m.\u001B[39;00m\u001B[38;5;21;01mkeras\u001B[39;00m\u001B[38;5;21;01m.\u001B[39;00m\u001B[38;5;21;01mlayers\u001B[39;00m \u001B[38;5;28;01mimport\u001B[39;00m Lambda, Input, Layer, Dense\n\u001B[1;32m----> 7\u001B[0m \u001B[38;5;28;01mfrom\u001B[39;00m \u001B[38;5;21;01mrl\u001B[39;00m\u001B[38;5;21;01m.\u001B[39;00m\u001B[38;5;21;01mcore\u001B[39;00m \u001B[38;5;28;01mimport\u001B[39;00m Agent\n\u001B[0;32m      8\u001B[0m \u001B[38;5;28;01mfrom\u001B[39;00m \u001B[38;5;21;01mrl\u001B[39;00m\u001B[38;5;21;01m.\u001B[39;00m\u001B[38;5;21;01mpolicy\u001B[39;00m \u001B[38;5;28;01mimport\u001B[39;00m EpsGreedyQPolicy, GreedyQPolicy\n\u001B[0;32m      9\u001B[0m \u001B[38;5;28;01mfrom\u001B[39;00m \u001B[38;5;21;01mrl\u001B[39;00m\u001B[38;5;21;01m.\u001B[39;00m\u001B[38;5;21;01mutil\u001B[39;00m \u001B[38;5;28;01mimport\u001B[39;00m \u001B[38;5;241m*\u001B[39m\n",
      "File \u001B[1;32m~\\AppData\\Local\\Programs\\Python\\Python311\\Lib\\site-packages\\rl\\core.py:7\u001B[0m\n\u001B[0;32m      4\u001B[0m \u001B[38;5;28;01mimport\u001B[39;00m \u001B[38;5;21;01mnumpy\u001B[39;00m \u001B[38;5;28;01mas\u001B[39;00m \u001B[38;5;21;01mnp\u001B[39;00m\n\u001B[0;32m      5\u001B[0m \u001B[38;5;28;01mfrom\u001B[39;00m \u001B[38;5;21;01mtensorflow\u001B[39;00m\u001B[38;5;21;01m.\u001B[39;00m\u001B[38;5;21;01mkeras\u001B[39;00m\u001B[38;5;21;01m.\u001B[39;00m\u001B[38;5;21;01mcallbacks\u001B[39;00m \u001B[38;5;28;01mimport\u001B[39;00m History\n\u001B[1;32m----> 7\u001B[0m \u001B[38;5;28;01mfrom\u001B[39;00m \u001B[38;5;21;01mrl\u001B[39;00m\u001B[38;5;21;01m.\u001B[39;00m\u001B[38;5;21;01mcallbacks\u001B[39;00m \u001B[38;5;28;01mimport\u001B[39;00m (\n\u001B[0;32m      8\u001B[0m     CallbackList,\n\u001B[0;32m      9\u001B[0m     TestLogger,\n\u001B[0;32m     10\u001B[0m     TrainEpisodeLogger,\n\u001B[0;32m     11\u001B[0m     TrainIntervalLogger,\n\u001B[0;32m     12\u001B[0m     Visualizer\n\u001B[0;32m     13\u001B[0m )\n\u001B[0;32m     16\u001B[0m \u001B[38;5;28;01mclass\u001B[39;00m \u001B[38;5;21;01mAgent\u001B[39;00m:\n\u001B[0;32m     17\u001B[0m \u001B[38;5;250m    \u001B[39m\u001B[38;5;124;03m\"\"\"Abstract base class for all implemented agents.\u001B[39;00m\n\u001B[0;32m     18\u001B[0m \n\u001B[0;32m     19\u001B[0m \u001B[38;5;124;03m    Each agent interacts with the environment (as defined by the `Env` class) by first observing the\u001B[39;00m\n\u001B[1;32m   (...)\u001B[0m\n\u001B[0;32m     37\u001B[0m \u001B[38;5;124;03m        processor (`Processor` instance): See [Processor](#processor) for details.\u001B[39;00m\n\u001B[0;32m     38\u001B[0m \u001B[38;5;124;03m    \"\"\"\u001B[39;00m\n",
      "File \u001B[1;32m~\\AppData\\Local\\Programs\\Python\\Python311\\Lib\\site-packages\\rl\\callbacks.py:8\u001B[0m\n\u001B[0;32m      6\u001B[0m \u001B[38;5;28;01mimport\u001B[39;00m \u001B[38;5;21;01mnumpy\u001B[39;00m \u001B[38;5;28;01mas\u001B[39;00m \u001B[38;5;21;01mnp\u001B[39;00m\n\u001B[0;32m      7\u001B[0m \u001B[38;5;28;01mimport\u001B[39;00m \u001B[38;5;21;01mtensorflow\u001B[39;00m \u001B[38;5;28;01mas\u001B[39;00m \u001B[38;5;21;01mtf\u001B[39;00m\n\u001B[1;32m----> 8\u001B[0m \u001B[38;5;28;01mfrom\u001B[39;00m \u001B[38;5;21;01mtensorflow\u001B[39;00m\u001B[38;5;21;01m.\u001B[39;00m\u001B[38;5;21;01mkeras\u001B[39;00m \u001B[38;5;28;01mimport\u001B[39;00m __version__ \u001B[38;5;28;01mas\u001B[39;00m KERAS_VERSION\n\u001B[0;32m      9\u001B[0m \u001B[38;5;28;01mfrom\u001B[39;00m \u001B[38;5;21;01mtensorflow\u001B[39;00m\u001B[38;5;21;01m.\u001B[39;00m\u001B[38;5;21;01mpython\u001B[39;00m\u001B[38;5;21;01m.\u001B[39;00m\u001B[38;5;21;01mkeras\u001B[39;00m\u001B[38;5;21;01m.\u001B[39;00m\u001B[38;5;21;01mcallbacks\u001B[39;00m \u001B[38;5;28;01mimport\u001B[39;00m Callback \u001B[38;5;28;01mas\u001B[39;00m KerasCallback, CallbackList \u001B[38;5;28;01mas\u001B[39;00m KerasCallbackList\n\u001B[0;32m     10\u001B[0m \u001B[38;5;28;01mfrom\u001B[39;00m \u001B[38;5;21;01mtensorflow\u001B[39;00m\u001B[38;5;21;01m.\u001B[39;00m\u001B[38;5;21;01mpython\u001B[39;00m\u001B[38;5;21;01m.\u001B[39;00m\u001B[38;5;21;01mkeras\u001B[39;00m\u001B[38;5;21;01m.\u001B[39;00m\u001B[38;5;21;01mutils\u001B[39;00m\u001B[38;5;21;01m.\u001B[39;00m\u001B[38;5;21;01mgeneric_utils\u001B[39;00m \u001B[38;5;28;01mimport\u001B[39;00m Progbar\n",
      "\u001B[1;31mImportError\u001B[0m: cannot import name '__version__' from 'tensorflow.keras' (C:\\Users\\Jordy\\AppData\\Local\\Programs\\Python\\Python311\\Lib\\site-packages\\keras\\_tf_keras\\keras\\__init__.py)"
     ]
    }
   ],
   "source": [
    "import abc\n",
    "import tensorflow as tf\n",
    "import numpy as np\n",
    "\n",
    "def build_agent(model, actions):\n",
    "    policy = BoltzmannQPolicy()\n",
    "    memory = SequentialMemory(limit=50000, window_length=1)\n",
    "    dqn = DQNAgent(model=model, memory=memory, policy=policy, nb_actions=actions, nb_steps_warmup=1000,\n",
    "                   target_model_update=1e-2)\n",
    "    return dqn\n",
    "\n",
    "\n",
    "dqn = build_agent(model, actions)\n",
    "dqn.compile(keras.optimizers.Adam(lr=1e-3), metrics=['mae'])\n",
    "dqn.fit(env, nb_steps=50000, visualize=False, verbose=1)"
   ],
   "metadata": {
    "collapsed": false,
    "ExecuteTime": {
     "end_time": "2024-03-23T18:07:43.053721Z",
     "start_time": "2024-03-23T18:07:42.108046Z"
    }
   },
   "id": "f5bd2fd1074dd00",
   "execution_count": 2
  }
 ],
 "metadata": {
  "kernelspec": {
   "display_name": "Python 3",
   "language": "python",
   "name": "python3"
  },
  "language_info": {
   "codemirror_mode": {
    "name": "ipython",
    "version": 2
   },
   "file_extension": ".py",
   "mimetype": "text/x-python",
   "name": "python",
   "nbconvert_exporter": "python",
   "pygments_lexer": "ipython2",
   "version": "2.7.6"
  }
 },
 "nbformat": 4,
 "nbformat_minor": 5
}
